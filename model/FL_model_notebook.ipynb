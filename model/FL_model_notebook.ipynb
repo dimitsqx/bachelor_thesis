{
 "cells": [
  {
   "cell_type": "code",
   "execution_count": 1,
   "metadata": {},
   "outputs": [],
   "source": [
    "import collections\n",
    "\n",
    "import numpy as np\n",
    "import tensorflow as tf\n",
    "import tensorflow_federated as tff"
   ]
  },
  {
   "cell_type": "markdown",
   "metadata": {},
   "source": [
    "import EMNIST data - original NIST data stored by original writer of data"
   ]
  },
  {
   "cell_type": "code",
   "execution_count": 2,
   "metadata": {},
   "outputs": [],
   "source": [
    "emnist_train, emnist_test = tff.simulation.datasets.emnist.load_data()"
   ]
  },
  {
   "cell_type": "code",
   "execution_count": 3,
   "metadata": {},
   "outputs": [
    {
     "data": {
      "text/plain": [
       "3383"
      ]
     },
     "execution_count": 3,
     "metadata": {},
     "output_type": "execute_result"
    }
   ],
   "source": [
    "len(emnist_train.client_ids)\n"
   ]
  },
  {
   "cell_type": "code",
   "execution_count": 4,
   "metadata": {},
   "outputs": [
    {
     "data": {
      "text/plain": [
       "OrderedDict([('label', TensorSpec(shape=(), dtype=tf.int32, name=None)),\n",
       "             ('pixels',\n",
       "              TensorSpec(shape=(28, 28), dtype=tf.float32, name=None))])"
      ]
     },
     "execution_count": 4,
     "metadata": {},
     "output_type": "execute_result"
    }
   ],
   "source": [
    "emnist_train.element_type_structure"
   ]
  },
  {
   "cell_type": "markdown",
   "metadata": {},
   "source": [
    "Example of dataset for a writer"
   ]
  },
  {
   "cell_type": "code",
   "execution_count": 5,
   "metadata": {},
   "outputs": [],
   "source": [
    "example_dataset = emnist_train.create_tf_dataset_for_client(\n",
    "    emnist_train.client_ids[0])"
   ]
  },
  {
   "cell_type": "code",
   "execution_count": 6,
   "metadata": {},
   "outputs": [
    {
     "data": {
      "text/plain": [
       "<TensorSliceDataset shapes: OrderedDict([(label, ()), (pixels, (28, 28))]), types: OrderedDict([(label, tf.int32), (pixels, tf.float32)])>"
      ]
     },
     "execution_count": 6,
     "metadata": {},
     "output_type": "execute_result"
    }
   ],
   "source": [
    "example_dataset"
   ]
  },
  {
   "cell_type": "code",
   "execution_count": 7,
   "metadata": {},
   "outputs": [],
   "source": [
    "example_element = next(iter(example_dataset))"
   ]
  },
  {
   "cell_type": "code",
   "execution_count": 8,
   "metadata": {},
   "outputs": [
    {
     "data": {
      "text/plain": [
       "OrderedDict([('label', <tf.Tensor: shape=(), dtype=int32, numpy=5>),\n",
       "             ('pixels',\n",
       "              <tf.Tensor: shape=(28, 28), dtype=float32, numpy=\n",
       "              array([[1.        , 1.        , 1.        , 1.        , 1.        ,\n",
       "                      1.        , 1.        , 1.        , 1.        , 1.        ,\n",
       "                      1.        , 1.        , 1.        , 1.        , 1.        ,\n",
       "                      1.        , 1.        , 1.        , 1.        , 1.        ,\n",
       "                      1.        , 1.        , 1.        , 1.        , 1.        ,\n",
       "                      1.        , 1.        , 1.        ],\n",
       "                     [1.        , 1.        , 1.        , 1.        , 1.        ,\n",
       "                      1.        , 1.        , 1.        , 1.        , 1.        ,\n",
       "                      1.        , 1.        , 1.        , 1.        , 1.        ,\n",
       "                      1.        , 1.        , 1.        , 1.        , 1.        ,\n",
       "                      1.        , 1.        , 1.        , 1.        , 1.        ,\n",
       "                      1.        , 1.        , 1.        ],\n",
       "                     [1.        , 1.        , 1.        , 1.        , 1.        ,\n",
       "                      1.        , 1.        , 1.        , 1.        , 1.        ,\n",
       "                      1.        , 1.        , 1.        , 1.        , 1.        ,\n",
       "                      1.        , 1.        , 1.        , 1.        , 1.        ,\n",
       "                      1.        , 1.        , 1.        , 1.        , 1.        ,\n",
       "                      1.        , 1.        , 1.        ],\n",
       "                     [1.        , 1.        , 1.        , 1.        , 1.        ,\n",
       "                      1.        , 1.        , 1.        , 1.        , 1.        ,\n",
       "                      1.        , 1.        , 1.        , 1.        , 1.        ,\n",
       "                      1.        , 1.        , 1.        , 1.        , 1.        ,\n",
       "                      1.        , 1.        , 1.        , 1.        , 1.        ,\n",
       "                      1.        , 1.        , 1.        ],\n",
       "                     [1.        , 1.        , 1.        , 1.        , 1.        ,\n",
       "                      1.        , 1.        , 1.        , 1.        , 1.        ,\n",
       "                      1.        , 1.        , 1.        , 1.        , 1.        ,\n",
       "                      1.        , 1.        , 1.        , 1.        , 1.        ,\n",
       "                      1.        , 1.        , 1.        , 1.        , 1.        ,\n",
       "                      1.        , 1.        , 1.        ],\n",
       "                     [1.        , 1.        , 1.        , 1.        , 1.        ,\n",
       "                      1.        , 1.        , 1.        , 1.        , 1.        ,\n",
       "                      1.        , 1.        , 1.        , 1.        , 1.        ,\n",
       "                      1.        , 1.        , 1.        , 1.        , 1.        ,\n",
       "                      1.        , 1.        , 1.        , 1.        , 1.        ,\n",
       "                      1.        , 1.        , 1.        ],\n",
       "                     [1.        , 1.        , 1.        , 1.        , 1.        ,\n",
       "                      1.        , 1.        , 1.        , 1.        , 1.        ,\n",
       "                      1.        , 1.        , 1.        , 1.        , 1.        ,\n",
       "                      1.        , 1.        , 1.        , 1.        , 1.        ,\n",
       "                      1.        , 1.        , 1.        , 1.        , 1.        ,\n",
       "                      1.        , 1.        , 1.        ],\n",
       "                     [1.        , 1.        , 1.        , 1.        , 1.        ,\n",
       "                      1.        , 1.        , 1.        , 1.        , 1.        ,\n",
       "                      1.        , 1.        , 1.        , 1.        , 1.        ,\n",
       "                      1.        , 1.        , 0.99607843, 0.99215686, 0.99607843,\n",
       "                      1.        , 1.        , 1.        , 1.        , 1.        ,\n",
       "                      1.        , 1.        , 1.        ],\n",
       "                     [1.        , 1.        , 1.        , 1.        , 1.        ,\n",
       "                      1.        , 1.        , 1.        , 1.        , 1.        ,\n",
       "                      1.        , 1.        , 1.        , 1.        , 1.        ,\n",
       "                      0.9882353 , 0.9882353 , 1.        , 1.        , 1.        ,\n",
       "                      1.        , 1.        , 1.        , 1.        , 1.        ,\n",
       "                      1.        , 1.        , 1.        ],\n",
       "                     [1.        , 1.        , 1.        , 1.        , 1.        ,\n",
       "                      1.        , 1.        , 1.        , 1.        , 1.        ,\n",
       "                      1.        , 1.        , 1.        , 0.99215686, 1.        ,\n",
       "                      1.        , 1.        , 1.        , 0.8117647 , 0.91764706,\n",
       "                      1.        , 0.99607843, 1.        , 1.        , 1.        ,\n",
       "                      1.        , 1.        , 1.        ],\n",
       "                     [1.        , 1.        , 1.        , 1.        , 1.        ,\n",
       "                      1.        , 1.        , 1.        , 1.        , 1.        ,\n",
       "                      1.        , 1.        , 0.9882353 , 1.        , 1.        ,\n",
       "                      0.7176471 , 0.3137255 , 0.14117648, 0.02352941, 0.47058824,\n",
       "                      1.        , 0.9882353 , 1.        , 1.        , 1.        ,\n",
       "                      1.        , 1.        , 1.        ],\n",
       "                     [1.        , 1.        , 1.        , 1.        , 1.        ,\n",
       "                      1.        , 1.        , 1.        , 1.        , 1.        ,\n",
       "                      1.        , 0.9882353 , 1.        , 0.7647059 , 0.16078432,\n",
       "                      0.11372549, 0.33333334, 0.5803922 , 0.88235295, 0.98039216,\n",
       "                      0.99607843, 1.        , 1.        , 1.        , 1.        ,\n",
       "                      1.        , 1.        , 1.        ],\n",
       "                     [1.        , 1.        , 1.        , 1.        , 1.        ,\n",
       "                      1.        , 1.        , 1.        , 1.        , 0.99607843,\n",
       "                      1.        , 1.        , 0.6901961 , 0.2627451 , 0.64705884,\n",
       "                      0.9764706 , 1.        , 1.        , 1.        , 1.        ,\n",
       "                      1.        , 1.        , 1.        , 1.        , 1.        ,\n",
       "                      1.        , 1.        , 1.        ],\n",
       "                     [1.        , 1.        , 1.        , 1.        , 1.        ,\n",
       "                      1.        , 1.        , 1.        , 0.99607843, 0.98039216,\n",
       "                      0.99607843, 0.38039216, 0.29803923, 1.        , 1.        ,\n",
       "                      1.        , 0.9843137 , 0.9882353 , 0.99215686, 1.        ,\n",
       "                      1.        , 1.        , 1.        , 1.        , 1.        ,\n",
       "                      1.        , 1.        , 1.        ],\n",
       "                     [1.        , 1.        , 1.        , 1.        , 1.        ,\n",
       "                      1.        , 1.        , 1.        , 1.        , 1.        ,\n",
       "                      1.        , 0.18431373, 0.25882354, 0.92941177, 0.98039216,\n",
       "                      0.99215686, 1.        , 1.        , 1.        , 1.        ,\n",
       "                      1.        , 1.        , 1.        , 1.        , 1.        ,\n",
       "                      1.        , 1.        , 1.        ],\n",
       "                     [1.        , 1.        , 1.        , 1.        , 1.        ,\n",
       "                      1.        , 0.99607843, 0.99607843, 0.9137255 , 0.5019608 ,\n",
       "                      0.92156863, 1.        , 0.08627451, 0.3882353 , 1.        ,\n",
       "                      0.9843137 , 1.        , 1.        , 1.        , 1.        ,\n",
       "                      1.        , 1.        , 1.        , 1.        , 1.        ,\n",
       "                      1.        , 1.        , 1.        ],\n",
       "                     [1.        , 1.        , 1.        , 1.        , 1.        ,\n",
       "                      1.        , 0.9882353 , 1.        , 0.42745098, 0.01176471,\n",
       "                      0.5529412 , 0.56078434, 0.05882353, 0.7294118 , 0.99607843,\n",
       "                      0.9882353 , 1.        , 1.        , 1.        , 1.        ,\n",
       "                      1.        , 1.        , 1.        , 1.        , 1.        ,\n",
       "                      1.        , 1.        , 1.        ],\n",
       "                     [1.        , 1.        , 1.        , 1.        , 1.        ,\n",
       "                      1.        , 0.99607843, 1.        , 0.92156863, 0.48235294,\n",
       "                      0.23529412, 0.23529412, 0.6901961 , 1.        , 0.99607843,\n",
       "                      1.        , 1.        , 1.        , 1.        , 1.        ,\n",
       "                      1.        , 1.        , 1.        , 1.        , 1.        ,\n",
       "                      1.        , 1.        , 1.        ],\n",
       "                     [1.        , 1.        , 1.        , 1.        , 1.        ,\n",
       "                      1.        , 1.        , 1.        , 1.        , 1.        ,\n",
       "                      1.        , 1.        , 1.        , 0.99607843, 1.        ,\n",
       "                      1.        , 1.        , 1.        , 1.        , 1.        ,\n",
       "                      1.        , 1.        , 1.        , 1.        , 1.        ,\n",
       "                      1.        , 1.        , 1.        ],\n",
       "                     [1.        , 1.        , 1.        , 1.        , 1.        ,\n",
       "                      1.        , 1.        , 1.        , 0.99607843, 0.9843137 ,\n",
       "                      0.9882353 , 0.9882353 , 0.9882353 , 1.        , 1.        ,\n",
       "                      1.        , 1.        , 1.        , 1.        , 1.        ,\n",
       "                      1.        , 1.        , 1.        , 1.        , 1.        ,\n",
       "                      1.        , 1.        , 1.        ],\n",
       "                     [1.        , 1.        , 1.        , 1.        , 1.        ,\n",
       "                      1.        , 1.        , 1.        , 1.        , 1.        ,\n",
       "                      1.        , 1.        , 1.        , 1.        , 1.        ,\n",
       "                      1.        , 1.        , 1.        , 1.        , 1.        ,\n",
       "                      1.        , 1.        , 1.        , 1.        , 1.        ,\n",
       "                      1.        , 1.        , 1.        ],\n",
       "                     [1.        , 1.        , 1.        , 1.        , 1.        ,\n",
       "                      1.        , 1.        , 1.        , 1.        , 1.        ,\n",
       "                      1.        , 1.        , 1.        , 1.        , 1.        ,\n",
       "                      1.        , 1.        , 1.        , 1.        , 1.        ,\n",
       "                      1.        , 1.        , 1.        , 1.        , 1.        ,\n",
       "                      1.        , 1.        , 1.        ],\n",
       "                     [1.        , 1.        , 1.        , 1.        , 1.        ,\n",
       "                      1.        , 1.        , 1.        , 1.        , 1.        ,\n",
       "                      1.        , 1.        , 1.        , 1.        , 1.        ,\n",
       "                      1.        , 1.        , 1.        , 1.        , 1.        ,\n",
       "                      1.        , 1.        , 1.        , 1.        , 1.        ,\n",
       "                      1.        , 1.        , 1.        ],\n",
       "                     [1.        , 1.        , 1.        , 1.        , 1.        ,\n",
       "                      1.        , 1.        , 1.        , 1.        , 1.        ,\n",
       "                      1.        , 1.        , 1.        , 1.        , 1.        ,\n",
       "                      1.        , 1.        , 1.        , 1.        , 1.        ,\n",
       "                      1.        , 1.        , 1.        , 1.        , 1.        ,\n",
       "                      1.        , 1.        , 1.        ],\n",
       "                     [1.        , 1.        , 1.        , 1.        , 1.        ,\n",
       "                      1.        , 1.        , 1.        , 1.        , 1.        ,\n",
       "                      1.        , 1.        , 1.        , 1.        , 1.        ,\n",
       "                      1.        , 1.        , 1.        , 1.        , 1.        ,\n",
       "                      1.        , 1.        , 1.        , 1.        , 1.        ,\n",
       "                      1.        , 1.        , 1.        ],\n",
       "                     [1.        , 1.        , 1.        , 1.        , 1.        ,\n",
       "                      1.        , 1.        , 1.        , 1.        , 1.        ,\n",
       "                      1.        , 1.        , 1.        , 1.        , 1.        ,\n",
       "                      1.        , 1.        , 1.        , 1.        , 1.        ,\n",
       "                      1.        , 1.        , 1.        , 1.        , 1.        ,\n",
       "                      1.        , 1.        , 1.        ],\n",
       "                     [1.        , 1.        , 1.        , 1.        , 1.        ,\n",
       "                      1.        , 1.        , 1.        , 1.        , 1.        ,\n",
       "                      1.        , 1.        , 1.        , 1.        , 1.        ,\n",
       "                      1.        , 1.        , 1.        , 1.        , 1.        ,\n",
       "                      1.        , 1.        , 1.        , 1.        , 1.        ,\n",
       "                      1.        , 1.        , 1.        ],\n",
       "                     [1.        , 1.        , 1.        , 1.        , 1.        ,\n",
       "                      1.        , 1.        , 1.        , 1.        , 1.        ,\n",
       "                      1.        , 1.        , 1.        , 1.        , 1.        ,\n",
       "                      1.        , 1.        , 1.        , 1.        , 1.        ,\n",
       "                      1.        , 1.        , 1.        , 1.        , 1.        ,\n",
       "                      1.        , 1.        , 1.        ]], dtype=float32)>)])"
      ]
     },
     "execution_count": 8,
     "metadata": {},
     "output_type": "execute_result"
    }
   ],
   "source": [
    "example_element"
   ]
  },
  {
   "cell_type": "code",
   "execution_count": 9,
   "metadata": {},
   "outputs": [
    {
     "data": {
      "image/png": "[encoded data removed]",
      "text/plain": [
       "<Figure size 432x288 with 1 Axes>"
      ]
     },
     "metadata": {
      "needs_background": "light"
     },
     "output_type": "display_data"
    }
   ],
   "source": [
    "from matplotlib import pyplot as plt\n",
    "plt.imshow(example_element['pixels'].numpy(), cmap='gray', aspect='equal')\n",
    "plt.grid(False)\n",
    "_ = plt.show()"
   ]
  },
  {
   "cell_type": "markdown",
   "metadata": {},
   "source": [
    "Show the data for a writter"
   ]
  },
  {
   "cell_type": "code",
   "execution_count": 10,
   "metadata": {},
   "outputs": [
    {
     "data": {
      "image/png": "[encoded data removed]",
      "text/plain": [
       "<Figure size 1440x288 with 40 Axes>"
      ]
     },
     "metadata": {
      "needs_background": "light"
     },
     "output_type": "display_data"
    }
   ],
   "source": [
    "\n",
    "figure = plt.figure(figsize=(20, 4))\n",
    "j = 0\n",
    "\n",
    "for example in example_dataset.take(40):\n",
    "  plt.subplot(4, 10, j+1)\n",
    "  plt.imshow(example['pixels'].numpy(), cmap='gray', aspect='equal')\n",
    "  plt.axis('off')\n",
    "  j += 1"
   ]
  },
  {
   "cell_type": "markdown",
   "metadata": {},
   "source": [
    "Preprocessing the data from 28x28 matrix to vector"
   ]
  },
  {
   "cell_type": "code",
   "execution_count": 15,
   "metadata": {},
   "outputs": [],
   "source": [
    "\n",
    "NUM_EPOCHS = 5\n",
    "BATCH_SIZE = 20\n",
    "SHUFFLE_BUFFER = 100\n",
    "PREFETCH_BUFFER = 10\n",
    "\n",
    "def preprocess(dataset):\n",
    "\n",
    "  def batch_format_fn(element):\n",
    "    \"\"\"Flatten a batch `pixels` and return the features as an `OrderedDict`.\"\"\"\n",
    "    return collections.OrderedDict(\n",
    "        x=tf.reshape(element['pixels'], [-1, 784]),\n",
    "        y=tf.reshape(element['label'], [-1, 1]))\n",
    "\n",
    "  return dataset.repeat(NUM_EPOCHS).shuffle(SHUFFLE_BUFFER).batch(\n",
    "      BATCH_SIZE).map(batch_format_fn).prefetch(PREFETCH_BUFFER)"
   ]
  },
  {
   "cell_type": "code",
   "execution_count": 12,
   "metadata": {},
   "outputs": [],
   "source": [
    "preprocessed_example_dataset = preprocess(example_dataset)"
   ]
  },
  {
   "cell_type": "code",
   "execution_count": 13,
   "metadata": {},
   "outputs": [
    {
     "data": {
      "text/plain": [
       "<PrefetchDataset shapes: OrderedDict([(x, (None, 784)), (y, (None, 1))]), types: OrderedDict([(x, tf.float32), (y, tf.int32)])>"
      ]
     },
     "execution_count": 13,
     "metadata": {},
     "output_type": "execute_result"
    }
   ],
   "source": [
    "preprocessed_example_dataset"
   ]
  },
  {
   "cell_type": "markdown",
   "metadata": {},
   "source": [
    "Helper to process the data for all clients"
   ]
  },
  {
   "cell_type": "code",
   "execution_count": 14,
   "metadata": {},
   "outputs": [],
   "source": [
    "def make_federated_data(client_data, client_ids):\n",
    "  return [\n",
    "      preprocess(client_data.create_tf_dataset_for_client(x))\n",
    "      for x in client_ids\n",
    "  ]"
   ]
  },
  {
   "cell_type": "markdown",
   "metadata": {},
   "source": [
    "Sample from NUM_CLients clients"
   ]
  },
  {
   "cell_type": "code",
   "execution_count": 16,
   "metadata": {},
   "outputs": [],
   "source": [
    "NUM_CLIENTS=10\n",
    "sample_clients = emnist_train.client_ids[0:NUM_CLIENTS]\n",
    "federated_train_data = make_federated_data(emnist_train, sample_clients)"
   ]
  },
  {
   "cell_type": "code",
   "execution_count": 17,
   "metadata": {},
   "outputs": [
    {
     "name": "stdout",
     "output_type": "stream",
     "text": [
      "Number of client datasets: 10\n",
      "First dataset: <PrefetchDataset shapes: OrderedDict([(x, (None, 784)), (y, (None, 1))]), types: OrderedDict([(x, tf.float32), (y, tf.int32)])>\n"
     ]
    }
   ],
   "source": [
    "print('Number of client datasets: {l}'.format(l=len(federated_train_data)))\n",
    "print('First dataset: {d}'.format(d=federated_train_data[0]))"
   ]
  },
  {
   "cell_type": "markdown",
   "metadata": {},
   "source": [
    "# Create Keras model"
   ]
  },
  {
   "cell_type": "markdown",
   "metadata": {},
   "source": [
    "Create the layers. THe model should not be compiled"
   ]
  },
  {
   "cell_type": "code",
   "execution_count": 18,
   "metadata": {},
   "outputs": [],
   "source": [
    "def create_keras_model():\n",
    "  return tf.keras.models.Sequential([\n",
    "      tf.keras.layers.Dense(512, activation='relu', input_shape=(28 * 28,)),\n",
    "      tf.keras.layers.Dense(10, activation='softmax'),\n",
    "  ])"
   ]
  },
  {
   "cell_type": "markdown",
   "metadata": {},
   "source": [
    "Wrap the keras model in a tff model and specify the loss and metrics"
   ]
  },
  {
   "cell_type": "code",
   "execution_count": 19,
   "metadata": {},
   "outputs": [],
   "source": [
    "def model_fn():\n",
    "  # We _must_ create a new model here, and _not_ capture it from an external\n",
    "  # scope. TFF will call this within different graph contexts.\n",
    "  keras_model = create_keras_model()\n",
    "  return tff.learning.from_keras_model(\n",
    "      keras_model,\n",
    "      input_spec=preprocessed_example_dataset.element_spec,\n",
    "      loss=tf.keras.losses.SparseCategoricalCrossentropy(),\n",
    "      metrics=[tf.keras.metrics.SparseCategoricalAccuracy()])"
   ]
  },
  {
   "cell_type": "markdown",
   "metadata": {},
   "source": [
    "Build the averaging process.The optimizer is specified at this step."
   ]
  },
  {
   "cell_type": "code",
   "execution_count": 21,
   "metadata": {},
   "outputs": [],
   "source": [
    "iterative_process = tff.learning.build_federated_averaging_process(\n",
    "    model_fn,\n",
    "    client_optimizer_fn=lambda: tf.keras.optimizers.SGD(learning_rate=0.02),\n",
    "    server_optimizer_fn=lambda: tf.keras.optimizers.SGD(learning_rate=1.0))"
   ]
  },
  {
   "cell_type": "markdown",
   "metadata": {},
   "source": [
    "Let's invoke the initialize computation to construct the server state."
   ]
  },
  {
   "cell_type": "code",
   "execution_count": 25,
   "metadata": {},
   "outputs": [],
   "source": [
    "import nest_asyncio\n",
    "nest_asyncio.apply()\n",
    "state = iterative_process.initialize()"
   ]
  },
  {
   "cell_type": "markdown",
   "metadata": {},
   "source": [
    "The next function represents a round of computation. Push model to client, collect, average update."
   ]
  },
  {
   "cell_type": "code",
   "execution_count": 26,
   "metadata": {},
   "outputs": [
    {
     "name": "stdout",
     "output_type": "stream",
     "text": [
      "round  1, metrics=OrderedDict([('broadcast', ()), ('aggregation', OrderedDict([('value_sum_process', ()), ('weight_sum_process', ())])), ('train', OrderedDict([('sparse_categorical_accuracy', 0.12757201), ('loss', 2.759342)]))])\n"
     ]
    }
   ],
   "source": [
    "state, metrics = iterative_process.next(state, federated_train_data)\n",
    "print('round  1, metrics={}'.format(metrics))"
   ]
  },
  {
   "cell_type": "markdown",
   "metadata": {},
   "source": [
    "Run more rounds"
   ]
  },
  {
   "cell_type": "code",
   "execution_count": 27,
   "metadata": {},
   "outputs": [
    {
     "name": "stdout",
     "output_type": "stream",
     "text": [
      "round  2, metrics=OrderedDict([('broadcast', ()), ('aggregation', OrderedDict([('value_sum_process', ()), ('weight_sum_process', ())])), ('train', OrderedDict([('sparse_categorical_accuracy', 0.18395062), ('loss', 2.2264495)]))])\n",
      "round  3, metrics=OrderedDict([('broadcast', ()), ('aggregation', OrderedDict([('value_sum_process', ()), ('weight_sum_process', ())])), ('train', OrderedDict([('sparse_categorical_accuracy', 0.22942387), ('loss', 2.1251676)]))])\n",
      "round  4, metrics=OrderedDict([('broadcast', ()), ('aggregation', OrderedDict([('value_sum_process', ()), ('weight_sum_process', ())])), ('train', OrderedDict([('sparse_categorical_accuracy', 0.2761317), ('loss', 2.037192)]))])\n",
      "round  5, metrics=OrderedDict([('broadcast', ()), ('aggregation', OrderedDict([('value_sum_process', ()), ('weight_sum_process', ())])), ('train', OrderedDict([('sparse_categorical_accuracy', 0.2899177), ('loss', 1.9812325)]))])\n",
      "round  6, metrics=OrderedDict([('broadcast', ()), ('aggregation', OrderedDict([('value_sum_process', ()), ('weight_sum_process', ())])), ('train', OrderedDict([('sparse_categorical_accuracy', 0.32860082), ('loss', 1.9143022)]))])\n",
      "round  7, metrics=OrderedDict([('broadcast', ()), ('aggregation', OrderedDict([('value_sum_process', ()), ('weight_sum_process', ())])), ('train', OrderedDict([('sparse_categorical_accuracy', 0.37098765), ('loss', 1.8481935)]))])\n",
      "round  8, metrics=OrderedDict([('broadcast', ()), ('aggregation', OrderedDict([('value_sum_process', ()), ('weight_sum_process', ())])), ('train', OrderedDict([('sparse_categorical_accuracy', 0.38004115), ('loss', 1.7992276)]))])\n",
      "round  9, metrics=OrderedDict([('broadcast', ()), ('aggregation', OrderedDict([('value_sum_process', ()), ('weight_sum_process', ())])), ('train', OrderedDict([('sparse_categorical_accuracy', 0.4154321), ('loss', 1.7257051)]))])\n",
      "round 10, metrics=OrderedDict([('broadcast', ()), ('aggregation', OrderedDict([('value_sum_process', ()), ('weight_sum_process', ())])), ('train', OrderedDict([('sparse_categorical_accuracy', 0.40349793), ('loss', 1.7332158)]))])\n"
     ]
    }
   ],
   "source": [
    "NUM_ROUNDS = 11\n",
    "for round_num in range(2, NUM_ROUNDS):\n",
    "  state, metrics = iterative_process.next(state, federated_train_data)\n",
    "  print('round {:2d}, metrics={}'.format(round_num, metrics))"
   ]
  },
  {
   "cell_type": "code",
   "execution_count": null,
   "metadata": {},
   "outputs": [],
   "source": []
  }
 ],
 "metadata": {
  "kernelspec": {
   "display_name": "Python 3",
   "language": "python",
   "name": "python3"
  },
  "language_info": {
   "codemirror_mode": {
    "name": "ipython",
    "version": 3
   },
   "file_extension": ".py",
   "mimetype": "text/x-python",
   "name": "python",
   "nbconvert_exporter": "python",
   "pygments_lexer": "ipython3",
   "version": "3.6.8"
  }
 },
 "nbformat": 4,
 "nbformat_minor": 4
}
